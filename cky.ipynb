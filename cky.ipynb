{
 "cells": [
  {
   "cell_type": "code",
   "execution_count": 1,
   "metadata": {
    "id": "ej0N9lmC_WbK"
   },
   "outputs": [],
   "source": [
    "# imports\n",
    "import itertools\n",
    "from tabulate import tabulate\n",
    "import math\n",
    "from collections import defaultdict\n",
    "import numpy as np\n",
    "from binarytree import Node"
   ]
  },
  {
   "cell_type": "code",
   "execution_count": 2,
   "metadata": {
    "id": "YkHCAiEs1d0w"
   },
   "outputs": [],
   "source": [
    "# Class for grammar rule\n",
    "class Rule:\n",
    "    def __init__(self, left, right, prob = 0):\n",
    "        self.left = left\n",
    "        self.right = right\n",
    "        self.prob = prob"
   ]
  },
  {
   "cell_type": "code",
   "execution_count": 3,
   "metadata": {
    "id": "dsuK0dbC1gia"
   },
   "outputs": [],
   "source": [
    "# Class grammer that holds the rule\n",
    "class Grammar:\n",
    "    def __init__(self, rules):\n",
    "        self.grammar = {}\n",
    "        self.reversed_grammar = {}\n",
    "        for rule in rules:\n",
    "            self.grammar[rule.left] = self.grammar.get(rule.left, set()).union(set([rule.right]))\n",
    "            #self.reversed_grammar[rule.right] = self.reversed_grammar.get(rule.right, set()).union(str(rule.left) + \"##\" + str(rule.prob))\n",
    "            if rule.right not in self.reversed_grammar:    \n",
    "                self.reversed_grammar[rule.right] = defaultdict(int)\n",
    "            self.reversed_grammar[rule.right][str(rule.left) + \"##\" + str(rule.prob)] += 1"
   ]
  },
  {
   "cell_type": "code",
   "execution_count": 4,
   "metadata": {},
   "outputs": [],
   "source": [
    "# Custom Class for binary tree. It inherites the 'Node' class of binarytree package. This is useful to visualise a tree data structure\n",
    "class TreeNode(Node):\n",
    "    def __init__(self, value, log_prob, left, right, word=None):\n",
    "        value = value if word is None else f\"{value}-{word}\"\n",
    "        super().__init__(value, left, right)\n",
    "        \n",
    "        # Calculate the log_score using left, right tree\n",
    "        left_score = 0 if self.left is None else self.left.score\n",
    "        right_score = 0 if self.right is None else self.right.score\n",
    "        self.score = log_prob + left_score + right_score\n",
    "        \n",
    "        # Calculate probability\n",
    "        self.prob = math.exp(self.score)\n",
    "\n",
    "    def __repr__(self):\n",
    "        return str(round(self.prob, 4))\n",
    "    \n",
    "\n",
    "# Calculates a marginal probability of trees\n",
    "def marginalize_trees(trees):\n",
    "    if not trees:\n",
    "        return 0\n",
    "    prob = sum([tree.prob for tree in trees])\n",
    "    return prob"
   ]
  },
  {
   "cell_type": "code",
   "execution_count": 5,
   "metadata": {
    "id": "ncOqpZS-10wI"
   },
   "outputs": [],
   "source": [
    "class CKYParser(Grammar):\n",
    "    # initialize parser\n",
    "    def __init__(self, rules):\n",
    "        super().__init__(rules)\n",
    "\n",
    "    # cky parser algorithm\n",
    "    def parse(self, words):\n",
    "        # initialize table\n",
    "        table = [[\"\"] * i + [set()] * (len(words) - i) for i in range(len(words))]\n",
    "        \n",
    "        # iterate of the columns\n",
    "        for j in range(len(words)):\n",
    "            cell = set()\n",
    "            for word_tag in self.reversed_grammar.get(words[j], {}):\n",
    "                w, p = word_tag.split('##')\n",
    "                cell.add(w)\n",
    "            \n",
    "            # initialize diagonal element\n",
    "            table[j][j] = cell\n",
    "            \n",
    "            # fill up the rows from bottom to up\n",
    "            for i in reversed(range(j)):\n",
    "                cell = set()\n",
    "                for k in range(i, j):\n",
    "                    rows = table[i][k]\n",
    "                    cols = table[k + 1][j]\n",
    "                    permutations = list(itertools.product(rows, cols))\n",
    "                    \n",
    "                    # iterate on each permutation\n",
    "                    for left, right in permutations:\n",
    "                        check = f\"{left} {right}\"\n",
    "                        if check in self.reversed_grammar.keys():\n",
    "                            cell = cell.union([k.split('##')[0] for k in self.reversed_grammar[check]])\n",
    "                # update cell value\n",
    "                table[i][j] = cell if len(cell)>0 else '\\u03A6'\n",
    "        return table\n",
    "    \n",
    "    # weighted cky parser algorithm\n",
    "    def weigheted_parse(self, words):\n",
    "        # initialize table\n",
    "        table = [[\"\"] * i + [set()] * (len(words) - i) for i in range(len(words))]\n",
    "        tree_list = list()\n",
    "        \n",
    "        # iterate of the columns\n",
    "        for j in range(len(words)):\n",
    "            cell = set()\n",
    "            for word_tag in self.reversed_grammar.get(words[j], {}):\n",
    "                w, p = word_tag.split('##')\n",
    "                p = float(p)\n",
    "                node = TreeNode(w, np.log(p), left=None, right=None, word=words[j])\n",
    "                cell.add((w, node))\n",
    "            \n",
    "            # initialize diagonal element\n",
    "            table[j][j] = cell\n",
    "            \n",
    "            # fill up the rows from bottom to up\n",
    "            for i in reversed(range(j)):\n",
    "                cell = set()\n",
    "                for k in range(i, j):\n",
    "                    rows = table[i][k]\n",
    "                    cols = table[k + 1][j]\n",
    "                    permutations = list(itertools.product(rows, cols))\n",
    "                    \n",
    "                    # iterate on each permutation\n",
    "                    for left, right in permutations:\n",
    "                        l_const, l_node = left\n",
    "                        r_const, r_node = right\n",
    "                        check = f\"{l_const} {r_const}\"\n",
    "                        if check in self.reversed_grammar.keys():\n",
    "                            for k in self.reversed_grammar[check]:\n",
    "                                w, p = k.split('##')\n",
    "                                p = float(p)\n",
    "                                new_node = TreeNode(w, np.log(p), left=l_node, right=r_node)\n",
    "                                cell.add((w, new_node))\n",
    "                table[i][j] = cell\n",
    "        \n",
    "        # Only add trees that have the root node as the start symbol(S)        \n",
    "        for tag, root in table[0][-1]:\n",
    "            if tag == \"S\":\n",
    "                tree_list.append(root)\n",
    "\n",
    "        return table, tree_list"
   ]
  },
  {
   "cell_type": "code",
   "execution_count": 6,
   "metadata": {
    "colab": {
     "base_uri": "https://localhost:8080/"
    },
    "id": "GppCzEsuQPvM",
    "outputId": "46db4446-301e-4729-a8c6-9fdd1e35895e"
   },
   "outputs": [],
   "source": [
    "sentence = \"British left waffles on Falklands\"\n",
    "tokens = sentence.split(\" \")\n",
    "rules = [Rule(\"S\", \"NP VP\"), Rule(\"NP\", \"JJ NP\"), Rule(\"VP\", \"VP NP\"), Rule(\"VP\", \"VP PP\"), Rule(\"PP\", \"P NP\"), Rule(\"NP\", \"British\"), Rule(\"JJ\", \"British\"), Rule(\"NP\", \"left\"), Rule(\"VP\", \"left\"), Rule(\"NP\", \"waffles\"), Rule(\"VP\", \"waffles\"), Rule(\"P\", \"on\"), Rule(\"NP\", \"Falklands\"),]\n",
    "cky_parser = CKYParser(rules)"
   ]
  },
  {
   "cell_type": "code",
   "execution_count": 7,
   "metadata": {
    "id": "fLFZBUUJc0o8"
   },
   "outputs": [
    {
     "name": "stdout",
     "output_type": "stream",
     "text": [
      "CKY Table:\n",
      "\n",
      "    British       left          waffles       on     Falklands\n",
      "--  ------------  ------------  ------------  -----  -----------\n",
      " 0  {'JJ', 'NP'}  {'S', 'NP'}   {'S'}         Φ      {'S'}\n",
      " 1                {'NP', 'VP'}  {'S', 'VP'}   Φ      {'S', 'VP'}\n",
      " 2                              {'NP', 'VP'}  Φ      {'VP'}\n",
      " 3                                            {'P'}  {'PP'}\n",
      " 4                                                   {'NP'}\n"
     ]
    }
   ],
   "source": [
    "table = cky_parser.parse(tokens)\n",
    "print(\"CKY Table:\")\n",
    "print()\n",
    "print(tabulate(table, headers=tokens, showindex=\"always\"))"
   ]
  },
  {
   "cell_type": "code",
   "execution_count": 8,
   "metadata": {},
   "outputs": [],
   "source": [
    "sentence = \"astronomers saw stars with ears\"\n",
    "tokens = sentence.split(\" \")\n",
    "rules = [Rule(\"S\", \"NP VP\", 1.0), Rule(\"PP\", \"P NP\", 1.0), Rule(\"VP\", \"V NP\", 0.7), Rule(\"VP\", \"VP PP\", 0.3), Rule(\"P\", \"with\", 1.0), Rule(\"V\", \"saw\", 1.0), Rule(\"NP\", \"NP PP\", 0.4), Rule(\"NP\", \"astronomers\", 0.4), Rule(\"NP\", \"ears\", 0.18), Rule(\"NP\", \"saw\", 0.04), Rule(\"NP\", \"stars\", 0.18), Rule(\"NP\", \"telescopes\", 0.1)]\n",
    "cky_parser = CKYParser(rules)"
   ]
  },
  {
   "cell_type": "code",
   "execution_count": 9,
   "metadata": {},
   "outputs": [
    {
     "name": "stdout",
     "output_type": "stream",
     "text": [
      "Weighted CKY Table:\n",
      "\n",
      "    astronomers    saw                         stars            with          ears\n",
      "--  -------------  --------------------------  ---------------  ------------  --------------------------------\n",
      " 0  {('NP', 0.4)}  set()                       {('S', 0.0504)}  set()         {('S', 0.0036), ('S', 0.0027)}\n",
      " 1                 {('V', 1.0), ('NP', 0.04)}  {('VP', 0.126)}  set()         {('VP', 0.0068), ('VP', 0.0091)}\n",
      " 2                                             {('NP', 0.18)}   set()         {('NP', 0.013)}\n",
      " 3                                                              {('P', 1.0)}  {('PP', 0.18)}\n",
      " 4                                                                            {('NP', 0.18)}\n",
      "\n",
      "Most Probable Parse Tree:\n",
      "\n",
      "Score :  0.0036288000000000015\n",
      "\n",
      "        _______S______\n",
      "       /              \\\n",
      "NP-astronomers       __VP_________\n",
      "                    /             \\\n",
      "                 V-saw         ____NP_______\n",
      "                              /             \\\n",
      "                          NP-stars        ___PP___\n",
      "                                         /        \\\n",
      "                                      P-with    NP-ears\n",
      "\n",
      "\n",
      "Probability of Sentence marginalized over the trees: 0.006350400000000003\n"
     ]
    }
   ],
   "source": [
    "table, parse_trees = cky_parser.weigheted_parse(tokens)\n",
    "\n",
    "print(\"Weighted CKY Table:\")\n",
    "print()\n",
    "print(tabulate(table, headers=tokens, showindex=\"always\"))\n",
    "print()\n",
    "\n",
    "# best tree\n",
    "best_tree = max(parse_trees, key=lambda node: node.score)\n",
    "print(\"Most Probable Parse Tree:\")\n",
    "print()\n",
    "print('Score : ', best_tree.prob)\n",
    "print(best_tree)\n",
    "print()\n",
    "\n",
    "# Marginalize over all trees\n",
    "print(f\"Probability of Sentence marginalized over the trees: {marginalize_trees(parse_trees)}\")"
   ]
  },
  {
   "cell_type": "code",
   "execution_count": null,
   "metadata": {},
   "outputs": [],
   "source": []
  }
 ],
 "metadata": {
  "colab": {
   "provenance": []
  },
  "kernelspec": {
   "display_name": "Python 3 (ipykernel)",
   "language": "python",
   "name": "python3"
  },
  "language_info": {
   "codemirror_mode": {
    "name": "ipython",
    "version": 3
   },
   "file_extension": ".py",
   "mimetype": "text/x-python",
   "name": "python",
   "nbconvert_exporter": "python",
   "pygments_lexer": "ipython3",
   "version": "3.9.13"
  }
 },
 "nbformat": 4,
 "nbformat_minor": 1
}
